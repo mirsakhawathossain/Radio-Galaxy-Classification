{
 "cells": [
  {
   "cell_type": "code",
   "execution_count": null,
   "metadata": {
    "colab": {
     "base_uri": "https://localhost:8080/"
    },
    "id": "rkWj2s5VPzjO",
    "outputId": "b651c1a5-4e97-42ea-9db1-8a9478726f07"
   },
   "outputs": [],
   "source": [
    "import sys\n",
    "!{sys.executable} -m pip install astroquery"
   ]
  },
  {
   "cell_type": "code",
   "execution_count": null,
   "metadata": {
    "colab": {
     "base_uri": "https://localhost:8080/",
     "height": 383
    },
    "id": "cwC0tbp_HJVb",
    "outputId": "b0899c1c-7d0e-413c-e234-b23db3cb5028"
   },
   "outputs": [],
   "source": [
    "import pandas as pd\n",
    "import os\n",
    "from astropy.coordinates import SkyCoord\n",
    "from astroquery.skyview import SkyView\n",
    "from astropy.io import fits\n",
    "from astropy import units as u\n",
    "from tqdm import tqdm\n",
    "import re\n",
    "\n",
    "# Load the catalog\n",
    "catalog = pd.read_csv(\"/home/idies/workspace/Storage/s.hossain18/Permanent/VLA Catalogue/catalog_first_VLA_1.csv\")\n",
    "\n",
    "# Output directory\n",
    "output_dir = \"/home/idies/workspace/Temporary/s.hossain18/scratch/vla_first_fits\"\n",
    "os.makedirs(output_dir, exist_ok=True)\n",
    "\n",
    "# Survey name\n",
    "survey = \"VLA FIRST (1.4 GHz)\"\n",
    "\n",
    "# Function to clean FITS header\n",
    "def clean_fits_header(hdu):\n",
    "    try:\n",
    "        header = hdu.header\n",
    "        if 'COMMENT' in header:\n",
    "            comments = header['COMMENT']\n",
    "            if isinstance(comments, list):\n",
    "                cleaned = [re.sub(r'[^\\x20-\\x7E]', ' ', str(c)) for c in comments]\n",
    "            else:\n",
    "                cleaned = [re.sub(r'[^\\x20-\\x7E]', ' ', str(comments))]\n",
    "            del header['COMMENT']\n",
    "            for c in cleaned:\n",
    "                header.add_comment(c)\n",
    "    except Exception as e:\n",
    "        print(\"[WARN] Failed to sanitize header:\", e)\n",
    "\n",
    "# Iterate over each row and download FITS\n",
    "for idx, row in tqdm(catalog.iterrows(), total=len(catalog)):\n",
    "    try:\n",
    "        # RA/DEC\n",
    "        ra = row[\"RAJ2000\"]\n",
    "        dec = row[\"DEJ2000\"]\n",
    "\n",
    "        # Filename using 'First' column\n",
    "        tag = str(row[\"FIRST\"]).strip()\n",
    "        filename = os.path.join(output_dir, f\"{tag}.fits\")\n",
    "\n",
    "        # Skip if already downloaded\n",
    "        if os.path.exists(filename):\n",
    "            continue\n",
    "\n",
    "        # Convert to SkyCoord\n",
    "        coord = SkyCoord(ra=ra, dec=dec, unit=(u.hourangle, u.deg))\n",
    "\n",
    "        # Query SkyView\n",
    "        images = SkyView.get_images(position=coord, survey=[survey], coordinates=\"J2000\", pixels=(300, 300))\n",
    "\n",
    "        # Save FITS\n",
    "        if images:\n",
    "            hdulist = images[0]\n",
    "            clean_fits_header(hdulist[0])\n",
    "            hdulist.writeto(filename, overwrite=True, output_verify='ignore')\n",
    "        else:\n",
    "            print(f\"No image returned for index {idx}\")\n",
    "\n",
    "    except Exception as e:\n",
    "        print(f\"[ERROR] Index {idx} - RA: {ra}, DEC: {dec} => {e}\")\n"
   ]
  },
  {
   "cell_type": "code",
   "execution_count": null,
   "metadata": {
    "id": "tieNhA_yFhZN"
   },
   "outputs": [],
   "source": []
  }
 ],
 "metadata": {
  "colab": {
   "provenance": []
  },
  "kernelspec": {
   "display_name": "Python 3.9 (py39)",
   "language": "python",
   "name": "py39"
  },
  "language_info": {
   "codemirror_mode": {
    "name": "ipython",
    "version": 3
   },
   "file_extension": ".py",
   "mimetype": "text/x-python",
   "name": "python",
   "nbconvert_exporter": "python",
   "pygments_lexer": "ipython3",
   "version": "3.9.13"
  }
 },
 "nbformat": 4,
 "nbformat_minor": 4
}
