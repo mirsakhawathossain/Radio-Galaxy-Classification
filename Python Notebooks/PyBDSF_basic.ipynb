{
 "cells": [
  {
   "cell_type": "code",
   "execution_count": 2,
   "id": "f8540845",
   "metadata": {},
   "outputs": [],
   "source": [
    "import numpy as np\n",
    "# other imports"
   ]
  },
  {
   "cell_type": "markdown",
   "id": "18c71cdb",
   "metadata": {},
   "source": [
    "# First image: point sources and default parameters"
   ]
  },
  {
   "cell_type": "markdown",
   "id": "4c8e6933",
   "metadata": {},
   "source": [
    "We are going to use a VLA image of the Arches cluster in the X-band: \"Arches_VLA_X.fits\"\n",
    "- Central frequency of 10 GHz\n",
    "- The point sources are associated with the stellar winds of massive (mostly WNh) stars\n",
    "- Background noise is relatively constant"
   ]
  },
  {
   "cell_type": "markdown",
   "id": "6d146c01",
   "metadata": {},
   "source": [
    "Let's create the images and fits subdirectories, make sure the images and the subdirectories are in the same directory."
   ]
  },
  {
   "cell_type": "code",
   "execution_count": 7,
   "id": "dec2f0de",
   "metadata": {},
   "outputs": [],
   "source": [
    "#mkdir images_bdsf fits_bdsf"
   ]
  },
  {
   "cell_type": "markdown",
   "id": "9a195bf0",
   "metadata": {},
   "source": [
    "### Interactive run"
   ]
  },
  {
   "cell_type": "markdown",
   "id": "d0452c3b",
   "metadata": {},
   "source": [
    "- Open the terminal within the directory of the images, then type `pybdsf`, this should load PyBDSF in interactive mode.\n",
    "  \n",
    "The process_image functionallity is already loaded when opening PyBDSF, so we just need to write down the paramenters and type \"go\":\n",
    "- `filename='Arches_VLA_X.fits'` # this is the name of the fits file \n",
    "- `frequency=1e10` # central frequency of the X-band\n",
    "- `go`\n"
   ]
  },
  {
   "cell_type": "markdown",
   "id": "b9e15d09",
   "metadata": {},
   "source": [
    "### Scripted run"
   ]
  },
  {
   "cell_type": "code",
   "execution_count": null,
   "id": "fb42c203-8738-474e-bdd2-91f12274bc5c",
   "metadata": {},
   "outputs": [],
   "source": [
    "import bdsf"
   ]
  },
  {
   "cell_type": "code",
   "execution_count": 13,
   "id": "431be02e",
   "metadata": {
    "scrolled": true
   },
   "outputs": [
    {
     "name": "stderr",
     "output_type": "stream",
     "text": [
      "\u001b[1;34m--> Opened 'Arches_VLA_X.fits'\u001b[0m\n",
      "Image size .............................. : (1200, 1200) pixels\n",
      "Number of channels ...................... : 1\n",
      "Number of Stokes parameters ............. : 1\n",
      "Beam shape (major, minor, pos angle) .... : (1.17863e-04, 4.03531e-05, 26.4) degrees\n",
      "Frequency of image ...................... : 10000.000 MHz\n",
      "Number of blank pixels .................. : 0 (0.0%)\n",
      "Flux from sum of (non-blank) pixels ..... : 0.005 Jy\n",
      "\u001b[1;34m--> Calculating background rms and mean images\u001b[0m\n",
      "Derived rms_box (box size, step size) ... : (121, 40) pixels\n",
      "\u001b[1;34m--> Variation in rms image significant\u001b[0m\n",
      "\u001b[1;34m--> Using 2D map for background rms\u001b[0m\n",
      "\u001b[1;34m--> Variation in mean image not significant\u001b[0m\n",
      "\u001b[1;34m--> Using constant background mean\u001b[0m\n",
      "Min/max values of background rms map .... : (3.81e-06, 5.55e-06) Jy/beam\n",
      "Value of background mean ................ : -0.0 Jy/beam\n",
      "\u001b[1;34m--> Expected 5-sigma-clipped false detection rate < fdr_ratio\u001b[0m\n",
      "\u001b[1;34m--> Using sigma-clipping ('hard') thresholding\u001b[0m\n",
      "Minimum number of pixels per island ..... : 9\n",
      "Number of islands found ................. : 23\n"
     ]
    },
    {
     "name": "stdout",
     "output_type": "stream",
     "text": [
      "\u001b[1G\u001b[0mFitting islands with Gaussians .......... : [|] 0/23\u001b[0m\u001b[46G"
     ]
    },
    {
     "name": "stderr",
     "output_type": "stream",
     "text": [
      "stty: stdin isn't a terminal\n",
      "stty: stdin isn't a terminal\n"
     ]
    },
    {
     "name": "stdout",
     "output_type": "stream",
     "text": [
      "\u001b[0m/\u001b[1D\u001b[0m\u001b[0m/\u001b[1D\u001b[0m\u001b[0m/\u001b[1D\u001b[0m\u001b[1G\u001b[0m/\u001b[1D\u001b[0m\u001b[0mFitting islands with Gaussians .......... : [/] 1/23\u001b[0m\u001b[44G\u001b[1G\u001b[0mFitting islands with Gaussians .......... : [/] 1/23\u001b[0m\u001b[44G\u001b[0m/\u001b[1D\u001b[0m\u001b[0m\\\u001b[1D\u001b[0m\u001b[1G\u001b[1G\u001b[0mFitting islands with Gaussians .......... : [/] 1/23\u001b[0m\u001b[0mFitting islands with Gaussians .......... : [/] 1/23\u001b[0m\u001b[0m\\\u001b[1D\u001b[0m\u001b[44G\u001b[44G\u001b[0m\\\u001b[1D\u001b[0m\u001b[1G\u001b[0m|\u001b[1D\u001b[0m\u001b[0mFitting islands with Gaussians .......... : [/] 1/23\u001b[0m\u001b[0m/\u001b[1D\u001b[0m\u001b[44G\u001b[1G\u001b[0mFitting islands with Gaussians .......... : [\\] 3/23\u001b[0m\u001b[1G\u001b[40G\u001b[0mFitting islands with Gaussians .......... : [\\] 3/23\u001b[0m\u001b[40G\u001b[1G\u001b[0mFitting islands with Gaussians .......... : [\\] 3/23\u001b[0m\u001b[40G\u001b[0m|\u001b[1D\u001b[0m\u001b[1G\u001b[1G\u001b[0m|\u001b[1D\u001b[0m\u001b[0mFitting islands with Gaussians .......... : [/] 5/23\u001b[0m\u001b[0mFitting islands with Gaussians .......... : [|] 4/23\u001b[0m\u001b[0m/\u001b[1D\u001b[0m\u001b[37G\u001b[35G\u001b[0m-\u001b[1D\u001b[0m\u001b[1G\u001b[0mFitting islands with Gaussians .......... : [|] 8/23\u001b[0m\u001b[1G\u001b[28G\u001b[1G\u001b[0mFitting islands with Gaussians .......... : [|] 9/23\u001b[0m\u001b[0mFitting islands with Gaussians .......... : [/] 9/23\u001b[0m\u001b[26G\u001b[26G\u001b[1G\u001b[0mFitting islands with Gaussians .......... : [-] 10/23\u001b[0m\u001b[24G\u001b[0m/\u001b[1D\u001b[0m\u001b[0m-\u001b[1D\u001b[0m\u001b[1G\u001b[0mFitting islands with Gaussians .......... : [/] 13/23\u001b[0m"
     ]
    },
    {
     "name": "stderr",
     "output_type": "stream",
     "text": [
      "stty: stdin isn't a terminal\n",
      "stty: stdin isn't a terminal\n",
      "stty: stdin isn't a terminal\n",
      "stty: stdin isn't a terminal\n",
      "stty: stdin isn't a terminal\n",
      "stty: stdin isn't a terminal\n",
      "stty: stdin isn't a terminal\n",
      "stty: stdin isn't a terminal\n",
      "stty: stdin isn't a terminal\n",
      "stty: stdin isn't a terminal\n",
      "stty: stdin isn't a terminal\n",
      "stty: stdin isn't a terminal\n",
      "stty: stdin isn't a terminal\n",
      "stty: stdin isn't a terminal\n",
      "stty: stdin isn't a terminal\n"
     ]
    },
    {
     "name": "stdout",
     "output_type": "stream",
     "text": [
      "\u001b[17G\u001b[1G\u001b[0mFitting islands with Gaussians .......... : [-] 14/23\u001b[0m\u001b[15G\u001b[0m\\\u001b[1D\u001b[0m\u001b[0m|\u001b[1D\u001b[0m\u001b[1G\u001b[0mFitting islands with Gaussians .......... : [\\] 15/23\u001b[0m\u001b[13G\u001b[0m/\u001b[1D\u001b[0m\u001b[1G\u001b[0mFitting islands with Gaussians .......... : [|] 16/23\u001b[0m\u001b[10G\u001b[1G\u001b[0mFitting islands with Gaussians .......... : [/] 17/23\u001b[0m\u001b[8G\u001b[0m\\\u001b[1D\u001b[0m\u001b[1G\u001b[0mFitting islands with Gaussians .......... : [\\] 19/23\u001b[0m\u001b[4G\u001b[0m|\u001b[1D\u001b[0m\u001b[1G\u001b[0mFitting islands with Gaussians .......... : [|] 20/23\u001b[0m\u001b[1G\u001b[0m/\u001b[1D\u001b[0m"
     ]
    },
    {
     "name": "stderr",
     "output_type": "stream",
     "text": [
      "stty: stdin isn't a terminal\n",
      "stty: stdin isn't a terminal\n",
      "stty: stdin isn't a terminal\n",
      "stty: stdin isn't a terminal\n",
      "stty: stdin isn't a terminal\n",
      "stty: stdin isn't a terminal\n"
     ]
    },
    {
     "name": "stdout",
     "output_type": "stream",
     "text": [
      "\u001b[1G\u001b[0mFitting islands with Gaussians .......... : [/] 21/23\u001b[0m\u001b[-1G\u001b[0m-\u001b[1D\u001b[0m\u001b[1G\u001b[0mFitting islands with Gaussians .......... : [-] 22/23\u001b[0m\u001b[-3G\u001b[1G\u001b[0mFitting islands with Gaussians .......... : [] 23/23\u001b[0m\u001b[-6G"
     ]
    },
    {
     "name": "stderr",
     "output_type": "stream",
     "text": [
      "stty: stdin isn't a terminal\n",
      "stty: stdin isn't a terminal\n",
      "stty: stdin isn't a terminal\n",
      "Total number of Gaussians fit to image .. : 16\n",
      "Total flux density in model ............. : 0.005 Jy\n",
      "stty: stdin isn't a terminal\n",
      "\u001b[1;34m--> Grouping Gaussians into sources\u001b[0m\n"
     ]
    },
    {
     "name": "stdout",
     "output_type": "stream",
     "text": [
      "\n"
     ]
    },
    {
     "name": "stderr",
     "output_type": "stream",
     "text": [
      "Number of sources formed from Gaussians   : 16\n",
      "\u001b[31;1mWARNING\u001b[0m: All Gaussians were flagged for the following islands:\n",
      "    Island #1 (x=477, y=226): fit with 1 Gaussian with flag = 256\n",
      "    Island #3 (x=518, y=897): fit with 1 Gaussian with flag = 256\n",
      "    Island #4 (x=538, y=556): fit with 1 Gaussian with flag = 256\n",
      "    Island #8 (x=592, y=585): fit with 1 Gaussian with flag = 256\n",
      "    Island #17 (x=713, y=469): fit with 1 Gaussian with flag = 256\n",
      "    Island #19 (x=796, y=698): fit with 1 Gaussian with flag = 256\n",
      "    Island #22 (x=1120, y=964): fit with 1 Gaussian with flag = 256\n",
      "Please check these islands. If they are valid islands and\n",
      "should be fit, try adjusting the flagging options (use\n",
      "show_fit with \"ch0_flagged=True\" to see the flagged Gaussians\n",
      "and \"help 'flagging_opts'\" to see the meaning of the flags)\n",
      "or enabling the wavelet module (with \"atrous_do=True\").\n",
      "To include empty islands in output source catalogs, set\n",
      "incl_empty=True in the write_catalog task.\n"
     ]
    },
    {
     "name": "stdout",
     "output_type": "stream",
     "text": [
      "--> Wrote file 'images_bdsf/Arches_VLA_X_islands.fits'\n",
      "--> Wrote file 'images_bdsf/Arches_VLA_X_residual.fits'\n",
      "--> Wrote file 'images_bdsf/Arches_VLA_X_model.fits'\n",
      "--> Wrote file 'images_bdsf/Arches_VLA_X_rms.fits'\n",
      "--> Wrote file 'images_bdsf/Arches_VLA_X_mean.fits'\n",
      "--> Wrote ASCII file 'fits_bdsf/Arches_VLA_X_srl.txt'\n"
     ]
    },
    {
     "data": {
      "text/plain": [
       "True"
      ]
     },
     "execution_count": 13,
     "metadata": {},
     "output_type": "execute_result"
    }
   ],
   "source": [
    "# Processing the image\n",
    "img_Arches = bdsf.process_image('Arches_VLA_X.fits', # default parameters\n",
    "                                frequency=1e10)\n",
    "\n",
    "# Internally derived images\n",
    "img_Arches.export_image(img_format='fits', outfile='images_bdsf/Arches_VLA_X_islands.fits', img_type='island_mask', clobber=True)\n",
    "img_Arches.export_image(img_format='fits', outfile='images_bdsf/Arches_VLA_X_residual.fits',img_type='gaus_resid', clobber=True)\n",
    "img_Arches.export_image(img_format='fits', outfile='images_bdsf/Arches_VLA_X_model.fits', img_type='gaus_model', clobber=True)\n",
    "img_Arches.export_image(img_format='fits', outfile='images_bdsf/Arches_VLA_X_rms.fits', img_type='rms', clobber=True)\n",
    "img_Arches.export_image(img_format='fits', outfile='images_bdsf/Arches_VLA_X_mean.fits', img_type='mean', clobber=True)\n",
    "\n",
    "# Writing the catalogue\n",
    "img_Arches.write_catalog(format='ascii',outfile='fits_bdsf/Arches_VLA_X_srl.txt', catalog_type='srl', clobber=True)\n",
    "\n",
    "\n",
    "\n",
    "\n"
   ]
  },
  {
   "cell_type": "markdown",
   "id": "b29dfb10",
   "metadata": {},
   "source": [
    "Different internally derived images:\n",
    "\n",
    "    'gaus_resid',\n",
    "    'shap_resid', 'rms', 'mean', 'gaus_model',\n",
    "    'shap_model', 'ch0', 'pi', 'psf_major', 'psf_minor',\n",
    "    'psf_pa', 'psf_ratio', 'psf_ratio_aper', 'island_mask'\n",
    "Not all of them apply to the previous image, the most important for continuum are:\n",
    "- `island_mask`\n",
    "- `rms`\n",
    "- `gaus_resid`\n",
    "- `gaus_model`\n",
    "\n",
    "\n",
    "Once we have checked that the internal images make sense we can take a look at the source catalogues. There are two types of output lists:\n",
    "- `srl`: provides a source list (a source may be a double Gaussian)\n",
    "- `gaul`: provides a list of each Gaussian\n",
    "\n",
    "\n",
    "In this simple case of the Arches image, all sources are single gaussians, so there's no difference between the srl and gaul catalogues... However, when loading the source parameters from the `.txt`, please note that the column structure is different in each catalogue type. I'll use the `srl`list for this example.\n",
    "\n",
    "Also, the catalogue can be written onto different common formats (from the bdsf docs):\n",
    "- `'bbs'` - BlackBoard Selfcal sky model format (Gaussian list only)\n",
    "- `'ds9'` - ds9 region format\n",
    "- `'fits'` - FITS catalog format, readable by many software packages, including IDL, TOPCAT, Python, fv, Aladin, etc.\n",
    "- `'star'` - AIPS STAR format (Gaussian list only)\n",
    "- `'kvis'` - kvis format (Gaussian list only)\n",
    "- `'ascii'` - simple text file with spaces separating the values\n",
    "- `'csv'` - Comma-separated Values (CSV) text file\n",
    "- `'casabox'` - CASA region file (boxes only)\n",
    "- `'sagecal'` - SAGECAL sky model format (Gaussian list only)\n",
    "\n"
   ]
  },
  {
   "cell_type": "markdown",
   "id": "7b2e7357",
   "metadata": {},
   "source": [
    "The source file is structured as follows: (in ascii)"
   ]
  },
  {
   "cell_type": "markdown",
   "id": "f7fa5a5c",
   "metadata": {},
   "source": [
    "Columns:\n",
    "\n",
    "```Source_id Isl_id RA E_RA DEC E_DEC Total_flux E_Total_flux Peak_flux E_Peak_flux RA_max E_RA_max DEC_max E_DEC_max Maj E_Maj Min E_Min PA E_PA Maj_img_plane E_Maj_img_plane Min_img_plane E_Min_img_plane PA_img_plane E_PA_img_plane DC_Maj E_DC_Maj DC_Min E_DC_Min DC_PA E_DC_PA DC_Maj_img_plane E_DC_Maj_img_plane DC_Min_img_plane E_DC_Min_img_plane DC_PA_img_plane E_DC_PA_img_plane Isl_Total_flux E_Isl_Total_flux Isl_rms Isl_mean Resid_Isl_rms Resid_Isl_mean S_Cod```\n",
    "\n",
    "Many of them are set to 0 because they are polarization or spectral parameters. \n",
    "\n",
    "The following cell loads basic parameters (coordinates and fluxes) to numpy arrays"
   ]
  },
  {
   "cell_type": "code",
   "execution_count": 18,
   "id": "1139df5b",
   "metadata": {},
   "outputs": [],
   "source": [
    "RA_Arches, eRA_Arches, dec_Arches, edec_Arches, SX_Arches, eSX_Arches, peakSX_Arches, epeakSX_Arches = np.genfromtxt('fits_bdsf/Arches_VLA_X_srl.txt', unpack=True, usecols=(2,3,4,5,6,7,8,9))\n"
   ]
  },
  {
   "cell_type": "code",
   "execution_count": 20,
   "id": "01169876",
   "metadata": {},
   "outputs": [
    {
     "name": "stdout",
     "output_type": "stream",
     "text": [
      "[266.46440465 266.46176071 266.46113959 266.46068262 266.46062202\n",
      " 266.46028263 266.46028842 266.46020729 266.4600718  266.45993714\n",
      " 266.45947393 266.45941145 266.45917361 266.45733523 266.45703916\n",
      " 266.45246659]\n"
     ]
    }
   ],
   "source": [
    "print(RA_Arches)"
   ]
  },
  {
   "cell_type": "code",
   "execution_count": 22,
   "id": "3beb77ef",
   "metadata": {},
   "outputs": [],
   "source": [
    "#print(SX_Arches)"
   ]
  },
  {
   "cell_type": "markdown",
   "id": "0eb6df67",
   "metadata": {},
   "source": [
    "Fluxes in Jy and coordinates in deg"
   ]
  },
  {
   "cell_type": "markdown",
   "id": "49680e97",
   "metadata": {},
   "source": [
    "### Deriving the spectral index of the sources"
   ]
  },
  {
   "cell_type": "markdown",
   "id": "4e229ddc",
   "metadata": {},
   "source": [
    "We will use a \"cubed\" version of the Arches image: `Arches_cube.fits`. Briefly, the 4GHz bandwidth of the X-band is divided into four 1 GHz chunks, then sub-images are created with frequencies centered at 8.5, 9.5, 10.5 and 11.5 GHz. Each sub-image is appended to an array into a new dimension (spectral dimension). Thus, the .fits file has shape (1200,1200,4)."
   ]
  },
  {
   "cell_type": "markdown",
   "id": "ad863304",
   "metadata": {},
   "source": [
    "We need to tell bdsf that we are using an spectral dimension with `frequency_sp`. Also, we have to specify that we want the spectral index to be computed: `spectralindex_do = True`."
   ]
  },
  {
   "cell_type": "code",
   "execution_count": 28,
   "id": "54d018a0",
   "metadata": {},
   "outputs": [
    {
     "name": "stderr",
     "output_type": "stream",
     "text": [
      "\u001b[1;34m--> Opened 'Arches_cube.fits'\u001b[0m\n",
      "Image size .............................. : (1200, 1200) pixels\n",
      "Number of channels ...................... : 4\n",
      "Number of Stokes parameters ............. : 1\n",
      "Beam shape (major, minor, pos angle) .... : (1.40148e-04, 4.63235e-05, 25.3) degrees\n",
      "\u001b[1;34m--> Channels averaged with uniform weights\u001b[0m\n",
      "\u001b[1;34m--> Source extraction will be done on averaged (\"ch0\") image\u001b[0m\n",
      "Frequency of averaged image ............. : 10000.000 MHz\n",
      "Number of blank pixels .................. : 0 (0.0%)\n",
      "Flux from sum of (non-blank) pixels ..... : 0.004 Jy\n",
      "\u001b[1;34m--> Calculating background rms and mean images\u001b[0m\n",
      "Derived rms_box (box size, step size) ... : (121, 40) pixels\n",
      "\u001b[1;34m--> Variation in rms image significant\u001b[0m\n",
      "\u001b[1;34m--> Using 2D map for background rms\u001b[0m\n",
      "\u001b[1;34m--> Variation in mean image not significant\u001b[0m\n",
      "\u001b[1;34m--> Using constant background mean\u001b[0m\n",
      "Min/max values of background rms map .... : (3.81e-06, 5.65e-06) Jy/beam\n",
      "Value of background mean ................ : -0.0 Jy/beam\n",
      "\u001b[1;34m--> Expected 5-sigma-clipped false detection rate < fdr_ratio\u001b[0m\n",
      "\u001b[1;34m--> Using sigma-clipping ('hard') thresholding\u001b[0m\n",
      "Minimum number of pixels per island ..... : 12\n",
      "Number of islands found ................. : 22\n"
     ]
    },
    {
     "name": "stdout",
     "output_type": "stream",
     "text": [
      "\u001b[1G\u001b[0mFitting islands with Gaussians .......... : [|] 0/22\u001b[0m\u001b[46G"
     ]
    },
    {
     "name": "stderr",
     "output_type": "stream",
     "text": [
      "stty: stdin isn't a terminal\n",
      "stty: stdin isn't a terminal\n"
     ]
    },
    {
     "name": "stdout",
     "output_type": "stream",
     "text": [
      "\u001b[0m/\u001b[1D\u001b[0m\u001b[0m/\u001b[1D\u001b[0m\u001b[0m/\u001b[1D\u001b[0m\u001b[0m/\u001b[1D\u001b[0m\u001b[1G\u001b[0m/\u001b[1D\u001b[0m\u001b[0mFitting islands with Gaussians .......... : [/] 1/22\u001b[0m\u001b[44G\u001b[1G\u001b[0mFitting islands with Gaussians .......... : [/] 1/22\u001b[0m\u001b[0m/\u001b[1D\u001b[0m\u001b[44G\u001b[1G\u001b[1G\u001b[0mFitting islands with Gaussians .......... : [/] 1/22\u001b[0m\u001b[0mFitting islands with Gaussians .......... : [/] 1/22\u001b[0m\u001b[44G\u001b[44G\u001b[1G\u001b[0mFitting islands with Gaussians .......... : [/] 1/22\u001b[0m\u001b[0m\\\u001b[1D\u001b[0m\u001b[0m/\u001b[1D\u001b[0m\u001b[44G\u001b[0m|\u001b[1D\u001b[0m\u001b[1G\u001b[0mFitting islands with Gaussians .......... : [/] 1/22\u001b[0m\u001b[44G\u001b[0m-\u001b[1D\u001b[0m\u001b[1G\u001b[1G\u001b[0mFitting islands with Gaussians .......... : [/] 4/22\u001b[0m\u001b[0m\\\u001b[1D\u001b[0m\u001b[0mFitting islands with Gaussians .......... : [\\] 3/22\u001b[0m\u001b[37G\u001b[1G\u001b[39G\u001b[0mFitting islands with Gaussians .......... : [|] 4/22\u001b[0m\u001b[1G\u001b[37G\u001b[0mFitting islands with Gaussians .......... : [-] 5/22\u001b[0m\u001b[35G\u001b[0m-\u001b[1D\u001b[0m\u001b[0m-\u001b[1D\u001b[0m\u001b[1G\u001b[0m-\u001b[1D\u001b[0m\u001b[0mFitting islands with Gaussians .......... : [\\] 6/22\u001b[0m\u001b[0m-\u001b[1D\u001b[0m\u001b[32G\u001b[1G\u001b[1G\u001b[0m\\\u001b[1D\u001b[0m\u001b[0mFitting islands with Gaussians .......... : [-] 9/22\u001b[0m\u001b[0mFitting islands with Gaussians .......... : [-] 9/22\u001b[0m\u001b[25G\u001b[25G\u001b[1G\u001b[0mFitting islands with Gaussians .......... : [-] 9/22\u001b[0m\u001b[1G\u001b[0mFitting islands with Gaussians .......... : [-] 9/22\u001b[0m\u001b[25G\u001b[25G\u001b[0m/\u001b[1D\u001b[0m\u001b[1G\u001b[0m-\u001b[1D\u001b[0m\u001b[0mFitting islands with Gaussians .......... : [\\] 10/22\u001b[0m\u001b[23G"
     ]
    },
    {
     "name": "stderr",
     "output_type": "stream",
     "text": [
      "stty: stdin isn't a terminal\n",
      "stty: stdin isn't a terminal\n",
      "stty: stty: stdin isn't a terminal\n",
      "stdin isn't a terminal\n",
      "stty: stdin isn't a terminal\n",
      "stty: stdin isn't a terminal\n",
      "stty: stdin isn't a terminal\n",
      "stty: stdin isn't a terminal\n",
      "stty: stdin isn't a terminal\n",
      "stty: stdin isn't a terminal\n",
      "stty: stdin isn't a terminal\n",
      "stty: stdin isn't a terminal\n",
      "stty: stdin isn't a terminal\n",
      "stty: stdin isn't a terminal\n",
      "stty: stdin isn't a terminal\n",
      "stty: stdin isn't a terminal\n"
     ]
    },
    {
     "name": "stdout",
     "output_type": "stream",
     "text": [
      "\u001b[0m-\u001b[1D\u001b[0m\u001b[1G\u001b[0mFitting islands with Gaussians .......... : [/] 12/22\u001b[0m\u001b[18G\u001b[1G\u001b[0mFitting islands with Gaussians .......... : [-] 13/22\u001b[0m\u001b[16G\u001b[1G\u001b[0mFitting islands with Gaussians .......... : [-] 13/22\u001b[0m\u001b[16G\u001b[0m/\u001b[1D\u001b[0m\u001b[0m-\u001b[1D\u001b[0m\u001b[1G\u001b[0mFitting islands with Gaussians .......... : [/] 17/22\u001b[0m\u001b[6G\u001b[1G\u001b[0mFitting islands with Gaussians .......... : [-] 17/22\u001b[0m\u001b[6G\u001b[0m|\u001b[1D\u001b[0m\u001b[1G\u001b[0mFitting islands with Gaussians .......... : [|] 19/22\u001b[0m\u001b[2G\u001b[1G\u001b[0mFitting islands with Gaussians .......... : [] 22/22\u001b[0m\u001b[-6G"
     ]
    },
    {
     "name": "stderr",
     "output_type": "stream",
     "text": [
      "stty: stdin isn't a terminal\n",
      "stty: stdin isn't a terminal\n",
      "stty: stdin isn't a terminal\n",
      "stty: stdin isn't a terminal\n",
      "stty: stdin isn't a terminal\n",
      "stty: stdin isn't a terminal\n",
      "stty: stdin isn't a terminal\n"
     ]
    },
    {
     "name": "stdout",
     "output_type": "stream",
     "text": [
      "\n"
     ]
    },
    {
     "name": "stderr",
     "output_type": "stream",
     "text": [
      "Total number of Gaussians fit to image .. : 18\n",
      "Total flux density in model ............. : 0.004 Jy\n",
      "stty: stdin isn't a terminal\n",
      "\u001b[1;34m--> Grouping Gaussians into sources\u001b[0m\n",
      "Number of sources formed from Gaussians   : 16\n",
      "\u001b[31;1mWARNING\u001b[0m: All Gaussians were flagged for the following islands:\n",
      "    Island #1 (x=477, y=226): fit with 1 Gaussian with flag = 256\n",
      "    Island #3 (x=518, y=896): fit with 1 Gaussian with flag = 256\n",
      "    Island #4 (x=538, y=556): fit with 1 Gaussian with flag = 256\n",
      "    Island #8 (x=593, y=584): fit with 1 Gaussian with flag = 256\n",
      "    Island #17 (x=713, y=469): fit with 1 Gaussian with flag = 256\n",
      "    Island #21 (x=1121, y=962): fit with 1 Gaussian with flag = 256\n",
      "Please check these islands. If they are valid islands and\n",
      "should be fit, try adjusting the flagging options (use\n",
      "show_fit with \"ch0_flagged=True\" to see the flagged Gaussians\n",
      "and \"help 'flagging_opts'\" to see the meaning of the flags)\n",
      "or enabling the wavelet module (with \"atrous_do=True\").\n",
      "To include empty islands in output source catalogs, set\n",
      "incl_empty=True in the write_catalog task.\n",
      "\u001b[1;34m\n",
      "--> Extracting spectral indices for all ch0 sources\u001b[0m\n",
      "Number of channels remaining after initial flagging : 4\n"
     ]
    },
    {
     "name": "stdout",
     "output_type": "stream",
     "text": [
      "\u001b[1G\u001b[0mDeterming rms for channels in image ..... : [|] 0/4\u001b[0m\u001b[46G\u001b[0m/\u001b[1D\u001b[0m\u001b[1G\u001b[0mDeterming rms for channels in image ..... : [/] 1/4\u001b[0m\u001b[34G"
     ]
    },
    {
     "name": "stderr",
     "output_type": "stream",
     "text": [
      "stty: stdin isn't a terminal\n",
      "stty: stdin isn't a terminal\n",
      "stty: stdin isn't a terminal\n"
     ]
    },
    {
     "name": "stdout",
     "output_type": "stream",
     "text": [
      "\u001b[0m-\u001b[1D\u001b[0m\u001b[1G\u001b[0mDeterming rms for channels in image ..... : [-] 2/4\u001b[0m\u001b[21G"
     ]
    },
    {
     "name": "stderr",
     "output_type": "stream",
     "text": [
      "stty: stdin isn't a terminal\n"
     ]
    },
    {
     "name": "stdout",
     "output_type": "stream",
     "text": [
      "\u001b[0m\\\u001b[1D\u001b[0m\u001b[1G\u001b[0mDeterming rms for channels in image ..... : [\\] 3/4\u001b[0m\u001b[9G"
     ]
    },
    {
     "name": "stderr",
     "output_type": "stream",
     "text": [
      "stty: stdin isn't a terminal\n"
     ]
    },
    {
     "name": "stdout",
     "output_type": "stream",
     "text": [
      "\u001b[1G\u001b[0mDeterming rms for channels in image ..... : [] 4/4\u001b[0m\u001b[-4G"
     ]
    },
    {
     "name": "stderr",
     "output_type": "stream",
     "text": [
      "stty: stdin isn't a terminal\n"
     ]
    },
    {
     "name": "stdout",
     "output_type": "stream",
     "text": [
      "\u001b[1G\u001b[0mDeterming rms for channels in image ..... : [] 4/4\u001b[0m\u001b[-4G\n",
      "\u001b[1G\u001b[0mCalculating spectral indices for sources  : [|] 0/16\u001b[0m\u001b[46G\u001b[0m/\u001b[1D\u001b[0m\u001b[1G\u001b[0mCalculating spectral indices for sources  : [/] 1/16\u001b[0m\u001b[43G\u001b[0m-\u001b[1D\u001b[0m\u001b[1G\u001b[0mCalculating spectral indices for sources  : [-] 2/16\u001b[0m\u001b[40G\u001b[0m\\\u001b[1D\u001b[0m\u001b[1G\u001b[0mCalculating spectral indices for sources  : [\\] 3/16\u001b[0m\u001b[37G\u001b[0m|\u001b[1D\u001b[0m\u001b[1G\u001b[0mCalculating spectral indices for sources  : [|] 4/16\u001b[0m\u001b[33G\u001b[0m/\u001b[1D\u001b[0m\u001b[1G\u001b[0mCalculating spectral indices for sources  : [/] 5/16\u001b[0m\u001b[30G\u001b[0m-\u001b[1D\u001b[0m\u001b[1G\u001b[0mCalculating spectral indices for sources  : [-] 6/16\u001b[0m\u001b[27G\u001b[0m\\\u001b[1D\u001b[0m\u001b[1G\u001b[0mCalculating spectral indices for sources  : [\\] 7/16\u001b[0m\u001b[24G\u001b[0m|\u001b[1D\u001b[0m\u001b[1G\u001b[0mCalculating spectral indices for sources  : [|] 8/16\u001b[0m\u001b[20G\u001b[0m/\u001b[1D\u001b[0m\u001b[1G\u001b[0mCalculating spectral indices for sources  : [/] 9/16\u001b[0m\u001b[17G\u001b[0m-\u001b[1D\u001b[0m\u001b[1G\u001b[0mCalculating spectral indices for sources  : [-] 10/16\u001b[0m\u001b[14G\u001b[0m\\\u001b[1D\u001b[0m\u001b[1G\u001b[0mCalculating spectral indices for sources  : [\\] 11/16\u001b[0m\u001b[11G\u001b[0m|\u001b[1D\u001b[0m\u001b[1G\u001b[0mCalculating spectral indices for sources  : [|] 12/16\u001b[0m\u001b[7G\u001b[0m/\u001b[1D\u001b[0m"
     ]
    },
    {
     "name": "stderr",
     "output_type": "stream",
     "text": [
      "stty: stdin isn't a terminal\n",
      "stty: stdin isn't a terminal\n",
      "stty: stdin isn't a terminal\n",
      "stty: stdin isn't a terminal\n",
      "stty: stdin isn't a terminal\n",
      "stty: stdin isn't a terminal\n",
      "stty: stdin isn't a terminal\n",
      "stty: stdin isn't a terminal\n",
      "stty: stdin isn't a terminal\n",
      "stty: stdin isn't a terminal\n",
      "stty: stdin isn't a terminal\n",
      "stty: stdin isn't a terminal\n",
      "stty: stdin isn't a terminal\n",
      "stty: stdin isn't a terminal\n",
      "stty: stdin isn't a terminal\n"
     ]
    },
    {
     "name": "stdout",
     "output_type": "stream",
     "text": [
      "\u001b[1G\u001b[0mCalculating spectral indices for sources  : [/] 13/16\u001b[0m\u001b[4G\u001b[0m-\u001b[1D\u001b[0m\u001b[1G\u001b[0mCalculating spectral indices for sources  : [-] 14/16\u001b[0m\u001b[1G\u001b[0m\\\u001b[1D\u001b[0m\u001b[1G\u001b[0mCalculating spectral indices for sources  : [\\] 15/16\u001b[0m\u001b[-2G\u001b[1G\u001b[0mCalculating spectral indices for sources  : [] 16/16\u001b[0m\u001b[-6G\u001b[1G\u001b[0mCalculating spectral indices for sources  : [] 16/16\u001b[0m\u001b[-6G\n"
     ]
    },
    {
     "name": "stderr",
     "output_type": "stream",
     "text": [
      "stty: stdin isn't a terminal\n",
      "stty: stdin isn't a terminal\n",
      "stty: stdin isn't a terminal\n",
      "stty: stdin isn't a terminal\n",
      "stty: stdin isn't a terminal\n"
     ]
    },
    {
     "name": "stdout",
     "output_type": "stream",
     "text": [
      "--> Wrote ASCII file 'fits_bdsf/Arches_cube_srl.txt'\n"
     ]
    },
    {
     "data": {
      "text/plain": [
       "True"
      ]
     },
     "execution_count": 28,
     "metadata": {},
     "output_type": "execute_result"
    }
   ],
   "source": [
    "Arches_cube = bdsf.process_image('Arches_cube.fits', # the cubed image\n",
    "                                frequency_sp=[8.5e9,9.5e9,10.5e9,11.5e9], beam_sp_derive=True,\n",
    "                                spectralindex_do=True)\n",
    "Arches_cube.write_catalog(format='ascii',outfile='fits_bdsf/Arches_cube_srl.txt', catalog_type='srl', clobber=True)"
   ]
  },
  {
   "cell_type": "markdown",
   "id": "706a575f",
   "metadata": {},
   "source": [
    "Now the srl file has spectral index information in the last two columns!\n",
    "I also recommend running this in interactive mode, since it allows you to click on each gaussian and see the SED and the spectral index fit."
   ]
  },
  {
   "cell_type": "markdown",
   "id": "ee938a7a",
   "metadata": {},
   "source": [
    "# Second image: dealing with artifacts"
   ]
  },
  {
   "cell_type": "markdown",
   "id": "b23ca945",
   "metadata": {},
   "source": [
    "Let's load another image of the VLA, this one at C-band (6 GHz central frequency): `PN_candidate.fit`.\n",
    "This is a bright double-lobbed planetary nebula candidate in the field of the previous image. There are some artifacts surrounding the main central emission (which we know is true thanks to HST). In particular, those circular symmetric patterns are to be doubted."
   ]
  },
  {
   "cell_type": "markdown",
   "id": "62c0cee9",
   "metadata": {},
   "source": [
    "Unfortunately, running PyBDSF with the default parameters will not help us now, as it will catch some of the artifacts as true emission. Let's see that in interactive mode, input the following:\n",
    "- `filename='PN_candidate.fits'`\n",
    "- `frequency=6e9`\n",
    "- `go`\n",
    "\n",
    "See the fitted artifacts?\n",
    "\n",
    "Luckily, we can solve this by tweaking the `rms_box`parameter, perhaps the most important parameter to play around with in `process_image`. This parameter is a two-element tuple. The first number gives the size of the squared box used to compute the rms, and the second indicates the step used to move across the image. Both numbers are given in pixels. Therefore, `rms_box=(40,10)` uses a 40px squared box in 10px steps."
   ]
  },
  {
   "cell_type": "code",
   "execution_count": 42,
   "id": "f27340b7",
   "metadata": {},
   "outputs": [
    {
     "name": "stderr",
     "output_type": "stream",
     "text": [
      "\u001b[1;34m--> Opened 'PN_candidate.fits'\u001b[0m\n",
      "Image size .............................. : (354, 358) pixels\n",
      "Number of channels ...................... : 1\n",
      "Number of Stokes parameters ............. : 1\n",
      "Beam shape (major, minor, pos angle) .... : (1.45145e-04, 6.49297e-05, -0.2) degrees\n",
      "Frequency of image ...................... : 6000.000 MHz\n",
      "Number of blank pixels .................. : 70 (0.1%)\n",
      "Flux from sum of (non-blank) pixels ..... : 0.012 Jy\n",
      "\u001b[1;34m--> Calculating background rms and mean images\u001b[0m\n",
      "Using user-specified rms_box ............ : (40, 10) pixels\n",
      "\u001b[1;34m--> Variation in rms image significant\u001b[0m\n",
      "\u001b[1;34m--> Using 2D map for background rms\u001b[0m\n",
      "\u001b[1;34m--> Variation in mean image significant\u001b[0m\n",
      "\u001b[1;34m--> Using 2D map for background mean\u001b[0m\n",
      "Min/max values of background rms map .... : (1.13e-05, 1.91e-04) Jy/beam\n",
      "Min/max values of background mean map ... : (-2.90e-05, 5.88e-05) Jy/beam\n",
      "\u001b[1;34m--> Expected 5-sigma-clipped false detection rate < fdr_ratio\u001b[0m\n",
      "\u001b[1;34m--> Using sigma-clipping ('hard') thresholding\u001b[0m\n",
      "Minimum number of pixels per island ..... : 6\n",
      "Number of islands found ................. : 2\n"
     ]
    },
    {
     "name": "stdout",
     "output_type": "stream",
     "text": [
      "\u001b[1G\u001b[0mFitting islands with Gaussians .......... : [|] 0/2\u001b[0m\u001b[46G"
     ]
    },
    {
     "name": "stderr",
     "output_type": "stream",
     "text": [
      "stty: stdin isn't a terminal\n",
      "stty: stdin isn't a terminal\n"
     ]
    },
    {
     "name": "stdout",
     "output_type": "stream",
     "text": [
      "\u001b[0m/\u001b[1D\u001b[0m\u001b[0m/\u001b[1D\u001b[0m\u001b[1G\u001b[1G\u001b[0mFitting islands with Gaussians .......... : [/] 1/2\u001b[0m\u001b[21G\u001b[0mFitting islands with Gaussians .......... : [/] 1/2\u001b[0m\u001b[21G\u001b[1G\u001b[0mFitting islands with Gaussians .......... : [] 2/2\u001b[0m\u001b[-4G"
     ]
    },
    {
     "name": "stderr",
     "output_type": "stream",
     "text": [
      "stty: stdin isn't a terminal\n",
      "stty: stdin isn't a terminal\n",
      "stty: stdin isn't a terminal\n",
      "Total number of Gaussians fit to image .. : 2\n",
      "Total flux density in model ............. : 0.017 Jy\n"
     ]
    },
    {
     "name": "stdout",
     "output_type": "stream",
     "text": [
      "\n"
     ]
    },
    {
     "name": "stderr",
     "output_type": "stream",
     "text": [
      "stty: stdin isn't a terminal\n",
      "\u001b[1;34m--> Grouping Gaussians into sources\u001b[0m\n",
      "Number of sources formed from Gaussians   : 2\n"
     ]
    },
    {
     "name": "stdout",
     "output_type": "stream",
     "text": [
      "--> Wrote file 'images_bdsf/PN_residual.fits'\n",
      "--> Wrote file 'images_bdsf/PN_model.fits'\n",
      "--> Wrote file 'images_bdsf/PN_rms.fits'\n",
      "--> Wrote file 'images_bdsf/PN_mean.fits'\n",
      "--> Wrote file 'images_bdsf/PN_islands.fits'\n",
      "--> Wrote ASCII file 'fits_bdsf/PN_srl.txt'\n"
     ]
    },
    {
     "data": {
      "text/plain": [
       "True"
      ]
     },
     "execution_count": 42,
     "metadata": {},
     "output_type": "execute_result"
    }
   ],
   "source": [
    "img_PN = bdsf.process_image('PN_candidate.fits', frequency=6e9,\n",
    "                            fix_to_beam=False, rms_box=(40,10))\n",
    "img_PN.export_image(img_format='fits', outfile='images_bdsf/PN_residual.fits',img_type='gaus_resid', clobber=True)\n",
    "img_PN.export_image(img_format='fits', outfile='images_bdsf/PN_model.fits', img_type='gaus_model', clobber=True)\n",
    "img_PN.export_image(img_format='fits', outfile='images_bdsf/PN_rms.fits', img_type='rms', clobber=True)\n",
    "img_PN.export_image(img_format='fits', outfile='images_bdsf/PN_mean.fits', img_type='mean', clobber=True)\n",
    "img_PN.export_image(img_format='fits', outfile='images_bdsf/PN_islands.fits', img_type='island_mask', clobber=True)\n",
    "\n",
    "\n",
    "img_PN.write_catalog(format='ascii',outfile='fits_bdsf/PN_srl.txt', catalog_type='srl', clobber=True)\n",
    "\n"
   ]
  },
  {
   "cell_type": "markdown",
   "id": "7251e287",
   "metadata": {},
   "source": [
    "Now only the two lobes are included in the model and therefore in the source list. You may complain that we've got a coarser fit than the one in the interactive mode with default parameters... You are right, and I encourage you to play around with `rms_box` and other parameters such as `thresh`, `thresh_pix` (different threshold algorithms and criteria), could we improve the fit while avoiding artifacts?\n",
    "\n",
    "In general, the size of the `rms_box`should be of the order of the size of the artifacts with a step of 1/4 to 1/3 of the box size. This parameter is key to reduce or avoid spurious detections."
   ]
  },
  {
   "cell_type": "markdown",
   "id": "7d0a74dd-649a-459f-b29e-0525f3f21b80",
   "metadata": {},
   "source": [
    "## Some other parameters that may be of your interest:\n",
    "- `fix_to_beam=True` only the fluxes are fitted, leaving the shape of the Gaussian defined by the synthetised beam. This is interesting if you want to minimise spurious sources while looking for point sources.\n",
    "- `trim_box` (tuple of four integers): detects sources in only a part of the image. Coordinates in px\n",
    "- `flaggin_opts=True` shows different flagging options during the Gaussian fitting.\n",
    "- `psf_vary_do=True` makes PyBDSF take into account spatial variations of the psf and correct it.\n",
    "- `shapelet_do=True`decomposes the emission islands into cartesian shapelets to tackle more sophisticated source morphology"
   ]
  },
  {
   "cell_type": "code",
   "execution_count": null,
   "id": "5431d332-176d-4a03-ba49-10f463380a7f",
   "metadata": {},
   "outputs": [],
   "source": []
  }
 ],
 "metadata": {
  "kernelspec": {
   "display_name": "Python 3 (ipykernel)",
   "language": "python",
   "name": "python3"
  },
  "language_info": {
   "codemirror_mode": {
    "name": "ipython",
    "version": 3
   },
   "file_extension": ".py",
   "mimetype": "text/x-python",
   "name": "python",
   "nbconvert_exporter": "python",
   "pygments_lexer": "ipython3",
   "version": "3.12.7"
  }
 },
 "nbformat": 4,
 "nbformat_minor": 5
}
